{
 "cells": [
  {
   "cell_type": "code",
   "execution_count": 1,
   "metadata": {},
   "outputs": [],
   "source": [
    "import requests\n",
    "from bs4 import BeautifulSoup\n",
    "import re\n",
    "import pandas as pd\n",
    "import numpy as np\n",
    "import networkx as nx\n"
   ]
  },
  {
   "cell_type": "code",
   "execution_count": 2,
   "metadata": {},
   "outputs": [
    {
     "name": "stdout",
     "output_type": "stream",
     "text": [
      "Saved combined content to narutopedia_combined_content.txt\n"
     ]
    }
   ],
   "source": [
    "# Base URL for Narutopedia character category\n",
    "url_base = 'https://naruto.fandom.com/wiki/Category:Characters{}'\n",
    "query_list = [\n",
    "    '', \n",
    "    '?from=Eiki+Fūma%0AEiki+Fūma', \n",
    "    '?from=Hidari%0AHidari', \n",
    "    '?from=Karai%0AKarai', \n",
    "    '?from=Matsuba%0AMatsuba', \n",
    "    '?from=Rikumaru%0ARikumaru', \n",
    "    '?from=Taiki%0ATaiki', \n",
    "    '?from=Yubina%0AYubina'\n",
    "]\n",
    "\n",
    "# Create an empty string to store the concatenated content\n",
    "all_content = \"\"\n",
    "\n",
    "for query in query_list:\n",
    "    # Construct the URL for the current query\n",
    "    url = url_base.format(query)\n",
    "    \n",
    "    # Send an HTTP GET request to the URL\n",
    "    response = requests.get(url)\n",
    "\n",
    "    # Check if the request was successful\n",
    "    if response.status_code == 200:\n",
    "        # Parse the HTML content of the page using BeautifulSoup\n",
    "        soup = BeautifulSoup(response.content, 'html.parser')\n",
    "\n",
    "        # Find the element with class 'category-page__members'\n",
    "        category_members = soup.find('div', {'class': 'category-page__members'})\n",
    "\n",
    "        # Extract the content within the 'category-page__members' div\n",
    "        if category_members:\n",
    "            content = category_members.get_text()\n",
    "            # Append the content to the all_content string\n",
    "            all_content += content\n",
    "        else:\n",
    "            print(\"Div with class 'category-page__members' not found on the page.\")\n",
    "    else:\n",
    "        print(\"Failed to retrieve the page. Status code:\", response.status_code)\n",
    "\n",
    "# Save the concatenated content to a single text file\n",
    "with open('narutopedia_combined_content.txt', 'w', encoding='utf-8') as file:\n",
    "    file.write(all_content)\n",
    "    print(\"Saved combined content to narutopedia_combined_content.txt\")\n"
   ]
  },
  {
   "cell_type": "code",
   "execution_count": 4,
   "metadata": {},
   "outputs": [],
   "source": [
    "# cReate names_list\n",
    "\n",
    "cleaned_string = re.sub(r'.\\t', '', all_content.replace('\\n', ' ')).replace('\\t', ' ')\n",
    "\n",
    "# Split the input string by two or more whitespace characters using regular expression\n",
    "name_list = re.split(r'\\s{2,}', cleaned_string)\n",
    "\n",
    "# Filter out any empty strings\n",
    "name_list = [name.strip() for name in name_list if name.strip()]\n",
    "\n",
    "names_list = []\n",
    "for name in name_list:\n",
    "    name=name.replace(' ', '_')\n",
    "    names_list.append(name)\n",
    "\n"
   ]
  },
  {
   "cell_type": "code",
   "execution_count": null,
   "metadata": {},
   "outputs": [],
   "source": [
    "names_list_short = names_list[:10]"
   ]
  },
  {
   "cell_type": "code",
   "execution_count": 6,
   "metadata": {},
   "outputs": [],
   "source": [
    "url_characters = 'https://naruto.fandom.com/wiki/{}'\n",
    "\n",
    "characters_texts = {}\n",
    "characters_links = {}\n",
    "\n",
    "for name in names_list:\n",
    "        \n",
    "        url_character = url_characters.format(name)\n",
    "        response = requests.get(url_character)\n",
    "        \n",
    "        if response.status_code == 200:\n",
    "                # Parse the HTML content of the page using BeautifulSoup\n",
    "                soup = BeautifulSoup(response.content, 'html.parser')\n",
    "\n",
    "                # Find the element with class 'category-page__members'\n",
    "                category_members = soup.find_all('p')\n",
    "                all_links = [tag['href'].replace('/wiki/', '') for tag in soup.select('p a[href]')]\n",
    "\n",
    "                characters_links[name] = all_links\n",
    "\n",
    "                for data in category_members:\n",
    "                        characters_texts[name] = data.get_text()\n",
    "                        \n",
    "                        "
   ]
  },
  {
   "cell_type": "code",
   "execution_count": 8,
   "metadata": {},
   "outputs": [
    {
     "name": "stdout",
     "output_type": "stream",
     "text": [
      "Kara\n",
      "Konohagakure\n",
      "Jigen\n",
      "Amado\n",
      "Daemon\n",
      "Shinobi-Ware\n",
      "Boro\n",
      "Land_of_Snow#Boro's_Facility\n",
      "%C5%8Ctsutsuki_Cult\n",
      "Kawaki\n",
      "Boruto_Uzumaki\n",
      "%C5%8Ctsutsuki\n",
      "Code\n",
      "Ten-Tails_(Kara)\n",
      "Delta\n",
      "Shikamaru\n",
      "Seventh_Hokage\n",
      "Sasuke\n",
      "Reflection_Shinjutsu\n",
      "Omnipotence\n",
      "Senrigan\n",
      "#cite_note-1\n",
      "Kara\n",
      "Scientific_Ninja_Tools\n",
      "Taijutsu\n",
      "#cite_note-2\n",
      "#cite_note-3\n",
      "Shibai_%C5%8Ctsutsuki\n",
      "#cite_note-4\n",
      "Senrigan\n",
      "#cite_note-5\n",
      "#cite_note-6\n",
      "#cite_note-7\n",
      "#cite_note-8\n",
      "#cite_note-9\n",
      "#cite_note-10\n",
      "Shadow_Imitation_Technique\n",
      "#cite_note-11\n",
      "#cite_note-12\n",
      "Shinjutsu\n",
      "Omnipotence\n",
      "#cite_note-13\n",
      "%C5%8Ctsutsuki\n",
      "Code%27s_Assault_Arc\n",
      "Isshiki_%C5%8Ctsutsuki\n",
      "Bug\n",
      "K%C4%81ma\n",
      "God_Tree_(disambiguation)\n",
      "Reflection_Shinjutsu\n",
      "Momoshiki\n",
      "Ultra-Big_Ball_Rasengan\n",
      "Claw_Mark\n",
      "Omnipotence_Arc\n",
      "Shadow_Imitation_Technique\n",
      "Konoha\n",
      "%C5%8Ctsutsuki\n",
      "Team_7_(Konohamaru)\n",
      "Senrigan\n",
      "Sai_Yamanaka\n",
      "Konohamaru_Sarutobi\n",
      "Shinjutsu\n",
      "Akebi_Sanzu\n",
      "Sumire_Kakei\n",
      "Sarada_Uchiha\n",
      "Shikadai_Nara\n",
      "Claw_Grime\n",
      "Hinata\n",
      "Daikokuten\n",
      "Sasuke\n",
      "Boruto%27s_Return_Arc\n",
      "Rasengan:_%22Uzuhiko%22\n"
     ]
    }
   ],
   "source": [
    "\n",
    "for link in all_links:\n",
    "    link = link.replace('/wiki/', '')\n",
    "    print(link)"
   ]
  },
  {
   "cell_type": "code",
   "execution_count": 16,
   "metadata": {},
   "outputs": [
    {
     "name": "stdout",
     "output_type": "stream",
     "text": [
      "[(), (), (), (), (), (), (), (), (), (), (), (), (), (), (), (), (), (), (), (), (), ()]\n"
     ]
    }
   ],
   "source": [
    "url_example = 'https://naruto.fandom.com/wiki/Ada'\n",
    "response = requests.get(url_example)\n",
    "if response.status_code == 200:\n",
    "        # Parse the HTML content of the page using BeautifulSoup\n",
    "        soup = BeautifulSoup(response.content, 'html.parser')\n",
    "\n",
    "        # Find the element with class 'category-page__members'\n",
    "        table = soup.find('table', attrs={'class':'infobox box colored bordered innerbordered fill-td type-character list-noicon float-right-clear'})\n",
    "        headings = [th.get_text() for th in table.find('tr').find_all('th', attrs={'class': not 'mainheader'})]\n",
    "        \n",
    "        datasets = []\n",
    "        for row in table.find_all(\"tr\")[1:]:\n",
    "            dataset = zip(headings, (td.get_text() for td in row.find_all(\"td\")))\n",
    "            datasets.append(tuple(dataset))\n",
    "        \n",
    "        print(datasets)"
   ]
  }
 ],
 "metadata": {
  "kernelspec": {
   "display_name": "base",
   "language": "python",
   "name": "python3"
  },
  "language_info": {
   "codemirror_mode": {
    "name": "ipython",
    "version": 3
   },
   "file_extension": ".py",
   "mimetype": "text/x-python",
   "name": "python",
   "nbconvert_exporter": "python",
   "pygments_lexer": "ipython3",
   "version": "3.8.18"
  }
 },
 "nbformat": 4,
 "nbformat_minor": 2
}
