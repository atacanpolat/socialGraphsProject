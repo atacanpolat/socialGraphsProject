{
 "cells": [
  {
   "cell_type": "code",
   "execution_count": 1,
   "metadata": {},
   "outputs": [],
   "source": [
    "import requests\n",
    "from bs4 import BeautifulSoup\n",
    "import re\n",
    "import pandas as pd\n",
    "import numpy as np\n",
    "import networkx as nx\n",
    "import asyncio\n",
    "import aiohttp\n",
    "import json\n"
   ]
  },
  {
   "cell_type": "code",
   "execution_count": 7,
   "metadata": {},
   "outputs": [],
   "source": [
    "def fetch_names(url):\n",
    "    # Create an empty string to store the concatenated content\n",
    "    all_content = \"\"\n",
    "    \n",
    "    # Send an HTTP GET request to the URL\n",
    "    response = requests.get(url)\n",
    "    \n",
    "        # Check if the request was successful\n",
    "    if response.status_code == 200:\n",
    "            # Parse the HTML content of the page using BeautifulSoup\n",
    "        soup = BeautifulSoup(response.content, 'html.parser')\n",
    "    \n",
    "            # Find the element with class 'category-page__members'\n",
    "        category_members = soup.find('div', {'class': 'category-page__members'})\n",
    "    \n",
    "            # Extract the content within the 'category-page__members' div\n",
    "        if category_members:\n",
    "            content = category_members.get_text()\n",
    "                # Append the content to the all_content string\n",
    "            all_content += content\n",
    "        else:\n",
    "            print(\"Div with class 'category-page__members' not found on the page.\")\n",
    "    else:\n",
    "            print(\"Failed to retrieve the page. Status code:\", response.status_code)\n",
    "    \n",
    "    return all_content\n",
    "\n",
    "\n",
    "def clean_names(string):\n",
    "    \n",
    "    cleaned_string = re.sub(r'.\\t', '', string.replace('\\n', ' ')).replace('\\t', ' ')\n",
    "    \n",
    "    # Split the input string by two or more whitespace characters using regular expression\n",
    "    name_list = re.split(r'\\s{2,}', cleaned_string)\n",
    "    \n",
    "    # Filter out any empty strings\n",
    "    name_list = [name.strip() for name in name_list if name.strip()]\n",
    "    \n",
    "    clean_list = []\n",
    "    for name in name_list:\n",
    "        name=name.replace(' ', '_')\n",
    "        clean_list.append(name)\n",
    "\n",
    "    return clean_list\n"
   ]
  },
  {
   "cell_type": "code",
   "execution_count": 8,
   "metadata": {},
   "outputs": [],
   "source": [
    "# Base URL for Narutopedia character category\n",
    "url_villages_list = 'https://naruto.fandom.com/wiki/Category:Villages'\n",
    "\n",
    "villages_string = fetch_names(url_villages_list)\n",
    "villages_list = clean_names(villages_string)\n"
   ]
  },
  {
   "cell_type": "code",
   "execution_count": 10,
   "metadata": {},
   "outputs": [],
   "source": [
    "url_base = 'https://naruto.fandom.com/wiki/{}'\n",
    "\n",
    "villages_texts = {}\n",
    "villages_links = {}\n",
    "\n",
    "\n",
    "async def fetch_character_data(name, session):\n",
    "\n",
    "    url_village = url_base.format(name)\n",
    "    \n",
    "    async with session.get(url_village) as response:\n",
    "        if response.status == 200:\n",
    "            html_content = await response.text()\n",
    "            soup = BeautifulSoup(html_content, 'html.parser')\n",
    "            \n",
    "            category_members = soup.find_all('p')\n",
    "            all_links = [tag['href'].replace('/wiki/', '') for tag in soup.select('p a[href]')]\n",
    "\n",
    "            villages_links[name] = all_links\n",
    "\n",
    "            for data in category_members:\n",
    "                villages_texts[name] = data.get_text()\n",
    "\n",
    "\n",
    "async def main():\n",
    "    async with aiohttp.ClientSession() as session:\n",
    "        tasks = [fetch_character_data(name, session) for name in villages_list]\n",
    "        await asyncio.gather(*tasks)\n",
    "\n",
    "await main()\n"
   ]
  },
  {
   "cell_type": "code",
   "execution_count": 13,
   "metadata": {},
   "outputs": [],
   "source": [
    "# Save dictionary to a JSON file\n",
    "with open('./data/villages_list.json', 'w') as json_file:\n",
    "    json.dump(villages_list, json_file)\n",
    "\n",
    "with open('./data/villages_texts.json', 'w') as json_file:\n",
    "    json.dump(villages_texts, json_file)\n",
    "\n",
    "with open('./data/villages_links.json', 'w') as json_file:\n",
    "    json.dump(villages_links, json_file)\n"
   ]
  }
 ],
 "metadata": {
  "kernelspec": {
   "display_name": "base",
   "language": "python",
   "name": "python3"
  },
  "language_info": {
   "codemirror_mode": {
    "name": "ipython",
    "version": 3
   },
   "file_extension": ".py",
   "mimetype": "text/x-python",
   "name": "python",
   "nbconvert_exporter": "python",
   "pygments_lexer": "ipython3",
   "version": "3.8.18"
  }
 },
 "nbformat": 4,
 "nbformat_minor": 2
}
