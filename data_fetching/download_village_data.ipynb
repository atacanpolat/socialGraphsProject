{
 "cells": [
  {
   "cell_type": "markdown",
   "metadata": {},
   "source": [
    "# Fetching village data"
   ]
  },
  {
   "cell_type": "markdown",
   "metadata": {},
   "source": [
    "This notebook explains the process of fetching information about the villages in the Naruto series.\n",
    "\n",
    "First of, we import the packages:"
   ]
  },
  {
   "cell_type": "code",
   "execution_count": 1,
   "metadata": {},
   "outputs": [],
   "source": [
    "import requests\n",
    "from bs4 import BeautifulSoup\n",
    "import re\n",
    "import pandas as pd\n",
    "import numpy as np\n",
    "import networkx as nx\n",
    "import asyncio\n",
    "import aiohttp\n",
    "import json"
   ]
  },
  {
   "cell_type": "markdown",
   "metadata": {},
   "source": [
    "We define two functions in the following code snippet. One for fetching the names of the villages from the Naruto fandom page, and another code for cleaning the fetched data:"
   ]
  },
  {
   "cell_type": "code",
   "execution_count": 7,
   "metadata": {},
   "outputs": [],
   "source": [
    "def fetch_names(url):\n",
    "    \"\"\"\n",
    "    Fetch and concatenate content from a given URL.\n",
    "\n",
    "    Parameters:\n",
    "    - url (str): The URL to fetch content from.\n",
    "\n",
    "    Returns:\n",
    "    - all_content (str): The concatenated content.\n",
    "\n",
    "    \"\"\"\n",
    "    all_content = \"\"\n",
    "    \n",
    "    response = requests.get(url)\n",
    "    \n",
    "    if response.status_code == 200:\n",
    "        soup = BeautifulSoup(response.content, 'html.parser')\n",
    "        category_members = soup.find('div', {'class': 'category-page__members'})\n",
    "    \n",
    "        if category_members:\n",
    "            content = category_members.get_text()\n",
    "            all_content += content\n",
    "        else:\n",
    "            print(\"Div with class 'category-page__members' not found on the page.\")\n",
    "    else:\n",
    "        print(\"Failed to retrieve the page. Status code:\", response.status_code)\n",
    "    \n",
    "    return all_content\n",
    "\n",
    "\n",
    "def clean_names(string):\n",
    "    \"\"\"\n",
    "    Clean and process a string containing names.\n",
    "\n",
    "    Parameters:\n",
    "    - string (str): The string containing names.\n",
    "\n",
    "    Returns:\n",
    "    - clean_list (list): The list of cleaned names.\n",
    "\n",
    "    \"\"\"\n",
    "    cleaned_string = re.sub(r'.\\t', '', string.replace('\\n', ' ')).replace('\\t', ' ')\n",
    "    \n",
    "    name_list = re.split(r'\\s{2,}', cleaned_string)\n",
    "    \n",
    "    name_list = [name.strip() for name in name_list if name.strip()]\n",
    "    \n",
    "    clean_list = []\n",
    "    for name in name_list:\n",
    "        name = name.replace(' ', '_')\n",
    "        clean_list.append(name)\n",
    "\n",
    "    return clean_list"
   ]
  },
  {
   "cell_type": "markdown",
   "metadata": {},
   "source": [
    "The functions are called for fetching and cleaning the village information:"
   ]
  },
  {
   "cell_type": "code",
   "execution_count": 8,
   "metadata": {},
   "outputs": [],
   "source": [
    "url_villages_list = 'https://naruto.fandom.com/wiki/Category:Villages'\n",
    "\n",
    "villages_string = fetch_names(url_villages_list)\n",
    "villages_list = clean_names(villages_string)"
   ]
  },
  {
   "cell_type": "markdown",
   "metadata": {},
   "source": [
    "Now, we want to fetch the description of each village and the hyperlinks from the villages in order to see if other villages is referenced in another village's description:"
   ]
  },
  {
   "cell_type": "code",
   "execution_count": 10,
   "metadata": {},
   "outputs": [],
   "source": [
    "url_base = 'https://naruto.fandom.com/wiki/'\n",
    "\n",
    "villages_texts = {}\n",
    "villages_links = {}\n",
    "\n",
    "\n",
    "async def fetch_character_data(name, session):\n",
    "    \"\"\"\n",
    "    Fetch character data for a given village name.\n",
    "\n",
    "    Parameters:\n",
    "    - name (str): The name of the village.\n",
    "    - session: aiohttp.ClientSession object for making asynchronous requests.\n",
    "\n",
    "    \"\"\"\n",
    "    url_village = f'{url_base}{name}'\n",
    "\n",
    "    async with session.get(url_village) as response:\n",
    "        if response.status == 200:\n",
    "            html_content = await response.text()\n",
    "            soup = BeautifulSoup(html_content, 'html.parser')\n",
    "\n",
    "            category_members = soup.find_all('p')\n",
    "            \n",
    "            all_links = [tag['href'].replace('/wiki/', '') for tag in soup.select('p a[href]')]\n",
    "            villages_links[name] = all_links\n",
    "\n",
    "            for data in category_members:\n",
    "                villages_texts[name] = data.get_text()\n",
    "\n",
    "\n",
    "async def main():\n",
    "    async with aiohttp.ClientSession() as session:\n",
    "        tasks = [fetch_character_data(name, session) for name in villages_list]\n",
    "        await asyncio.gather(*tasks)\n",
    "\n",
    "await main()"
   ]
  },
  {
   "cell_type": "markdown",
   "metadata": {},
   "source": [
    "Finally, the name of the villages, the desription of the villages, and the links in the villages is saved as json files:"
   ]
  },
  {
   "cell_type": "code",
   "execution_count": 13,
   "metadata": {},
   "outputs": [],
   "source": [
    "with open('./data/villages_list.json', 'w') as json_file:\n",
    "    json.dump(villages_list, json_file)\n",
    "\n",
    "with open('./data/villages_texts.json', 'w') as json_file:\n",
    "    json.dump(villages_texts, json_file)\n",
    "\n",
    "with open('./data/villages_links.json', 'w') as json_file:\n",
    "    json.dump(villages_links, json_file)"
   ]
  }
 ],
 "metadata": {
  "kernelspec": {
   "display_name": "base",
   "language": "python",
   "name": "python3"
  },
  "language_info": {
   "codemirror_mode": {
    "name": "ipython",
    "version": 3
   },
   "file_extension": ".py",
   "mimetype": "text/x-python",
   "name": "python",
   "nbconvert_exporter": "python",
   "pygments_lexer": "ipython3",
   "version": "3.8.18"
  }
 },
 "nbformat": 4,
 "nbformat_minor": 2
}
