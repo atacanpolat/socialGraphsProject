{
 "cells": [
  {
   "cell_type": "code",
   "execution_count": 1,
   "metadata": {},
   "outputs": [],
   "source": [
    "import requests\n",
    "from bs4 import BeautifulSoup\n",
    "import re\n",
    "import pandas as pd\n",
    "import numpy as np\n",
    "import networkx as nx\n",
    "import asyncio\n",
    "import aiohttp\n",
    "import json"
   ]
  },
  {
   "cell_type": "code",
   "execution_count": 2,
   "metadata": {},
   "outputs": [],
   "source": [
    "import requests\n",
    "from bs4 import BeautifulSoup\n",
    "\n",
    "def scrape_episode_data(url, title_text):\n",
    "    response = requests.get(url)\n",
    "\n",
    "    if response.status_code == 200:\n",
    "        soup = BeautifulSoup(response.content, 'html.parser')\n",
    "\n",
    "        # Find the h3 tag with a child span containing the specified text\n",
    "        title_tag = soup.find('h3', string=title_text)\n",
    "\n",
    "        if title_tag:\n",
    "            # Find the corresponding table by searching for the closest table tag after the title\n",
    "            table = title_tag.find_next('table', class_='box table coloured bordered innerbordered style-basic fill-horiz')\n",
    "\n",
    "            if table:\n",
    "                # Initialize lists to store data\n",
    "                episode_data = []\n",
    "\n",
    "                # Loop through rows in the table\n",
    "                for row in table.find_all('tr')[1:]:  # Skip the header row\n",
    "                    # Extract data from each column in the row\n",
    "                    columns = row.find_all('td')\n",
    "\n",
    "                    # Assuming the structure is consistent, extract data from each column\n",
    "                    episode_number = row.find('th').get_text(strip=True)\n",
    "\n",
    "                    # Check if anchor tag is present before trying to get its text\n",
    "                    episode_title_tag = columns[0].find('a')\n",
    "                    episode_title = episode_title_tag.get_text(strip=True).replace(' ', '_') if episode_title_tag else None\n",
    "\n",
    "                    # Append data to the list of dictionaries\n",
    "                    episode_data.append({\n",
    "                        'Episode Number': episode_number,\n",
    "                        'Episode Title': episode_title,\n",
    "                    })\n",
    "\n",
    "                return episode_data\n",
    "\n",
    "            else:\n",
    "                print(f\"Table not found after the title with text '{title_text}'.\")\n",
    "                return None\n",
    "\n",
    "        else:\n",
    "            print(f\"Title with text '{title_text}' not found on the page.\")\n",
    "            return None\n",
    "\n",
    "    else:\n",
    "        print(f\"Failed to retrieve data. Status code: {response.status_code}\")\n",
    "        return None"
   ]
  },
  {
   "cell_type": "code",
   "execution_count": 3,
   "metadata": {},
   "outputs": [
    {
     "name": "stdout",
     "output_type": "stream",
     "text": [
      "Title with text 'Naruto: Shippūden' not found on the page.\n"
     ]
    }
   ],
   "source": [
    "# Example usage:\n",
    "url = \"https://naruto.fandom.com/wiki/List_of_Animated_Media\"\n",
    "season_titles = ['Naruto: Original', 'Naruto: Shippūden', 'Boruto: Naruto Next Generations']\n",
    "\n",
    "episodes_seasons_data = {}\n",
    "\n",
    "for season in season_titles:\n",
    "    data = scrape_episode_data(url, season)\n",
    "    if data is not None:\n",
    "        episodes_seasons_data[season] = data\n"
   ]
  },
  {
   "cell_type": "code",
   "execution_count": null,
   "metadata": {},
   "outputs": [],
   "source": [
    "# Print the results for debugging\n",
    "for season, data in episodes_seasons_data.items():\n",
    "    print(f\"\\nSeason: {season}\")\n",
    "    if data:\n",
    "        for episode in data:\n",
    "            print(episode)\n",
    "    else:\n",
    "        print(\"No data found.\")"
   ]
  },
  {
   "cell_type": "code",
   "execution_count": 4,
   "metadata": {},
   "outputs": [],
   "source": [
    "with open('./data/episodes_seasons_descriptions.json', 'w') as json_file:\n",
    "    json.dump(episodes_seasons_data, json_file)"
   ]
  }
 ],
 "metadata": {
  "kernelspec": {
   "display_name": "base",
   "language": "python",
   "name": "python3"
  },
  "language_info": {
   "codemirror_mode": {
    "name": "ipython",
    "version": 3
   },
   "file_extension": ".py",
   "mimetype": "text/x-python",
   "name": "python",
   "nbconvert_exporter": "python",
   "pygments_lexer": "ipython3",
   "version": "3.8.18"
  }
 },
 "nbformat": 4,
 "nbformat_minor": 2
}
